{
 "cells": [
  {
   "cell_type": "markdown",
   "id": "49f48f87",
   "metadata": {},
   "source": [
    "# GPHY 491-591: Lab 4\n",
    "\n",
    "Written by Cascade Tuholske, Jan. 2024\n",
    "\n",
    "\n",
    "## Goals\n",
    "The goal of Lab 4 is to expand our knowledge of integrating human and environmental geospatial datasets to understand exposure to natural hazards. This Lab will have less direction than previous labs, but will also function more like a tutorial.   \n",
    "\n",
    "We will measure how many people were exposed to the devastating [2015 Nepal Earthquake](https://en.wikipedia.org/wiki/April_2015_Nepal_earthquake) across [five gridded population datasets](https://www.popgrid.org). This analysis comes from a paper ([link here](https://www.mdpi.com/1171374?trk=public_post_reshare-text)) I published looking at how these different gridded population datasets measure exposure to three different natural disasters to illustrate how population exposure can vary depending on the human dataset you use.  \n",
    "\n",
    "Good luck!\n",
    "<hr style=\"border-top: 0.2px solid gray; margin-top: 12pt; margin-bottom: 0pt\"></hr>"
   ]
  },
  {
   "cell_type": "markdown",
   "id": "da5e0b5a",
   "metadata": {},
   "source": [
    "# Match and Reproject Rasters\n",
    "\n",
    "First, we need to match and reproject the population rasters. We will do three things.\n",
    "\n",
    "1. Take MODIS urban/rural binary 2015 [MGUP](https://doi.org/10.1016/j.jag.2020.102255) landcover data at 250m and resample it to 1-km.\n",
    "2. Then reprojects popgrid rasters into the same CRS, size and projection so they stack.\n",
    "3. Make urban and rural rasters for each gridded product"
   ]
  },
  {
   "cell_type": "code",
   "execution_count": null,
   "id": "07b90f8a",
   "metadata": {},
   "outputs": [],
   "source": [
    "# dependencies \n",
    "import os \n",
    "import xarray as xr\n",
    "import numpy as np\n",
    "import pandas as pd\n",
    "import geopandas as gpd\n",
    "import rasterio \n",
    "import rioxarray as rio\n",
    "from glob import glob\n",
    "from rasterio.enums import Resampling\n",
    "import xarray as xr\n",
    "from scipy.stats import variation \n",
    "import rasterio.mask\n",
    "from rasterstats import zonal_stats, gen_zonal_stats\n",
    "import matplotlib.pyplot as plt\n",
    "import matplotlib.patches as patches\n",
    "Patch = patches.Patch"
   ]
  },
  {
   "cell_type": "markdown",
   "id": "5a6b4215",
   "metadata": {},
   "source": [
    "### Step 1\n",
    "Resample the 250m urban/rural raster and resample it to 1-km."
   ]
  },
  {
   "cell_type": "code",
   "execution_count": null,
   "id": "b1388111",
   "metadata": {},
   "outputs": [],
   "source": [
    "def resample(fn_in, fn_out, scale_factor, method):\n",
    "    \n",
    "    \"\"\" Resamples a raster and save it out\n",
    "    Args:\n",
    "        fn_in = file path and name of tif input as str\n",
    "        fn_out = file path and name of tif output as str \n",
    "        scale_factor = factor to up or down scale a pixel as float\n",
    "        method = method to resample (rasterio object), see rasterio documentation\n",
    "    \"\"\"\n",
    "    \n",
    "    with rasterio.open(fn_in) as dataset:\n",
    "\n",
    "        # resample data to target shape\n",
    "        data = dataset.read(\n",
    "            out_shape=(\n",
    "                dataset.count,\n",
    "                int(dataset.height * scale_factor),\n",
    "                int(dataset.width * scale_factor)\n",
    "            ),\n",
    "            resampling=method\n",
    "        )\n",
    "\n",
    "        # scale image transform\n",
    "        transform = dataset.transform * dataset.transform.scale(\n",
    "            (dataset.width / data.shape[-1]),\n",
    "            (dataset.height / data.shape[-2])\n",
    "        )\n",
    "    \n",
    "    # meta data to write out\n",
    "    out_meta = dataset.meta\n",
    "\n",
    "    # Update meta data\n",
    "    out_meta.update({\"driver\": \"GTiff\",\n",
    "             \"height\": data.shape[1],\n",
    "             \"width\": data.shape[2],\n",
    "             \"transform\": transform})\n",
    "\n",
    "    # write image \n",
    "    with rasterio.open(fn_out, \"w\", **out_meta) as dest:\n",
    "        dest.write(data)"
   ]
  },
  {
   "cell_type": "code",
   "execution_count": null,
   "id": "5999e4d2",
   "metadata": {},
   "outputs": [],
   "source": [
    "# File paths\n",
    "data_in = os.path.join('/Users/cascade/Github/PopGridCompare/data/raw/')\n",
    "data_out = os.path.join('/Users/cascade/Github/PopGridCompare/data/interim/')"
   ]
  },
  {
   "cell_type": "code",
   "execution_count": null,
   "id": "127c1c97",
   "metadata": {},
   "outputs": [],
   "source": [
    "# File names\n",
    "modis_in = os.path.join(data_in+'MGUP_annual_2001_2018/MGUP_2015.tif')\n",
    "modis_out = os.path.join(data_out+'MGUP_2015-1km.tif')"
   ]
  },
  {
   "cell_type": "code",
   "execution_count": null,
   "id": "5d956292",
   "metadata": {},
   "outputs": [],
   "source": [
    "# Resample and save the MODIS landcover raster\n",
    "resample(modis_in, modis_out, 0.5, Resampling.mode)"
   ]
  },
  {
   "cell_type": "markdown",
   "id": "a951b5ec",
   "metadata": {},
   "source": [
    "#### Make a plot of the 1-km urban rural MODIS raster"
   ]
  },
  {
   "cell_type": "code",
   "execution_count": null,
   "id": "b66afb63",
   "metadata": {},
   "outputs": [],
   "source": [
    "# your code here ... "
   ]
  },
  {
   "cell_type": "markdown",
   "id": "56ca3652",
   "metadata": {},
   "source": [
    "### Step 2\n",
    "Reproject and align the rasters. We will be using a new package, [`rioxarray`](https://corteva.github.io/rioxarray/stable/), which builds upon `rasterio`."
   ]
  },
  {
   "cell_type": "code",
   "execution_count": null,
   "id": "8db3b944",
   "metadata": {},
   "outputs": [],
   "source": [
    "wp_path = os.path.join(data_in + 'WorldPop16/ppp_2016_1km_Aggregated.tif')\n",
    "ls_path = os.path.join(data_in + 'LandScan-Global-2015/lspop2015/w001001.adf')\n",
    "esri_path = os.path.join(data_in + 'ESRI_WPE_2016_Pop/WPE_1KM_2016_Pop.tif')\n",
    "ghs_path = os.path.join(data_in + 'GHS-Pop/GHS_POP_E2015_GLOBE_R2019A_4326_30ss_V1_0.tif')\n",
    "gpw_path = os.path.join(data_in + 'gpw_v4/gpw-v4-population-count-rev11_2015_30_sec_tif/gpw_v4_population_count_rev11_2015_30_sec.tif')\n",
    "modis_path = os.path.join(data_out + 'MGUP_2015-1km.tif')"
   ]
  },
  {
   "cell_type": "code",
   "execution_count": null,
   "id": "ffbd208a",
   "metadata": {},
   "outputs": [],
   "source": [
    "# MODIS2015_LCType2_1km-urban.tif is 2015 MODIS from GEE reclassified to urban/rural \n",
    "# modis : height: 31982: 80148, MODIS Sinusoidal\n",
    "modis = rio.open_rasterio(modis_path)\n",
    "modis"
   ]
  },
  {
   "cell_type": "code",
   "execution_count": null,
   "id": "a96fee62",
   "metadata": {},
   "outputs": [],
   "source": [
    "# GPW v4 : width = 43200 height = 21600 epsg = 4326\n",
    "gpw = rio.open_rasterio(gpw_path)\n",
    "gpw"
   ]
  },
  {
   "cell_type": "code",
   "execution_count": null,
   "id": "e3cff627",
   "metadata": {},
   "outputs": [],
   "source": [
    "# World Pop 2016 (?_): width = 43200 height = 18720 epsg = 4326\n",
    "wp = rio.open_rasterio(wp_path)\n",
    "wp"
   ]
  },
  {
   "cell_type": "code",
   "execution_count": null,
   "id": "2fd9f4b5",
   "metadata": {},
   "outputs": [],
   "source": [
    "# ESRI 2016 : width = 40074 height = 14285 epsg = 4326\n",
    "esri = rio.open_rasterio(esri_path)\n",
    "esri"
   ]
  },
  {
   "cell_type": "code",
   "execution_count": null,
   "id": "0390cd43",
   "metadata": {},
   "outputs": [],
   "source": [
    "# LS 2015 : width = 43200 height = 21600 epsg = 4326\n",
    "ls = rio.open_rasterio(ls_path)\n",
    "ls"
   ]
  },
  {
   "cell_type": "code",
   "execution_count": null,
   "id": "f7f967d9",
   "metadata": {},
   "outputs": [],
   "source": [
    "# GHS 2015 : width = 43200 height = 21600 epsg = 4326\n",
    "ghs = rio.open_rasterio(ghs_path)\n",
    "ghs"
   ]
  },
  {
   "cell_type": "markdown",
   "id": "6238a14b",
   "metadata": {},
   "source": [
    "**Reset the nan values for all data** <br>\n",
    "This is the meta data flag that says \"this value means nan\""
   ]
  },
  {
   "cell_type": "code",
   "execution_count": null,
   "id": "862fdfb6",
   "metadata": {},
   "outputs": [],
   "source": [
    "#print('smod na value is', smod.data[0][0][0])\n",
    "print('modis na value is', modis.data[0][0][0])\n",
    "print('GPW na value is', gpw.data[0][0][0])\n",
    "print('World Pop na value is', wp.data[0][0][0])\n",
    "print('LandScan na value is', ls.data[0][0][0])\n",
    "print('ESRI na value is', esri.data[0][0][0])\n",
    "print('GHS na value is', ghs.data[0][0][0])"
   ]
  },
  {
   "cell_type": "code",
   "execution_count": null,
   "id": "73cb28ac",
   "metadata": {},
   "outputs": [],
   "source": [
    "#### Set all NAs and -999s to Zero\n",
    "modis.data = np.where(modis.data < 1,-999, modis.data)\n",
    "gpw.data = np.where(gpw.data < 1,-999, gpw.data)\n",
    "wp.data = np.where(wp.data < 1,-999, wp.data)\n",
    "ls.data = np.where(ls.data < 1,-999, ls.data)\n",
    "esri.data = np.where(esri.data < 1,-999, esri.data)\n",
    "ghs.data = np.where(ghs.data < 1,-999, ghs.data)"
   ]
  },
  {
   "cell_type": "code",
   "execution_count": null,
   "id": "6dfe365f",
   "metadata": {},
   "outputs": [],
   "source": [
    "# Check the meta data\n",
    "print('modis na value is', modis.data[0][0][0])\n",
    "print('GPW na value is', gpw.data[0][0][0])\n",
    "print('World Pop na value is', wp.data[0][0][0])\n",
    "print('LandScan na value is', ls.data[0][0][0])\n",
    "print('ESRI na value is', esri.data[0][0][0])\n",
    "print('GHS na value is', ghs.data[0][0][0])"
   ]
  },
  {
   "cell_type": "markdown",
   "id": "8460220e",
   "metadata": {},
   "source": [
    "**Reset the nan fill values for all data** <br>\n",
    "This is the meta data flag that says \"this value means nan\" _and_ print this value when we see an `nan'. "
   ]
  },
  {
   "cell_type": "code",
   "execution_count": null,
   "id": "3c036a53",
   "metadata": {},
   "outputs": [],
   "source": [
    "# modis doesn't have an assigned fill value so we make one\n",
    "modis.attrs['_FillValue'] = 0"
   ]
  },
  {
   "cell_type": "code",
   "execution_count": null,
   "id": "feae3eec",
   "metadata": {},
   "outputs": [],
   "source": [
    "# Check NA values\n",
    "print(modis.attrs['_FillValue'])\n",
    "print(gpw.attrs['_FillValue'])\n",
    "print(esri.attrs['_FillValue'])\n",
    "print(ls.attrs['_FillValue'])\n",
    "print(wp.attrs['_FillValue'])\n",
    "print(ghs.attrs['_FillValue'])"
   ]
  },
  {
   "cell_type": "code",
   "execution_count": null,
   "id": "d24907e9",
   "metadata": {},
   "outputs": [],
   "source": [
    "# Set all nan fill values to - 999 \n",
    "na_val = -999\n",
    "\n",
    "modis.attrs['_FillValue'] = na_val\n",
    "gpw.attrs['_FillValue'] = na_val\n",
    "esri.attrs['_FillValue'] = na_val\n",
    "ls.attrs['_FillValue'] = na_val\n",
    "wp.attrs['_FillValue'] = na_val\n",
    "ghs.attrs['_FillValue'] = na_val"
   ]
  },
  {
   "cell_type": "code",
   "execution_count": null,
   "id": "0fc6d9c4",
   "metadata": {},
   "outputs": [],
   "source": [
    "# Check nan fill values \n",
    "print(modis.attrs['_FillValue'])\n",
    "print(gpw.attrs['_FillValue'])\n",
    "print(esri.attrs['_FillValue'])\n",
    "print(ls.attrs['_FillValue'])\n",
    "print(wp.attrs['_FillValue'])\n",
    "print(ghs.attrs['_FillValue'])"
   ]
  },
  {
   "cell_type": "markdown",
   "id": "a97a0bdc",
   "metadata": {},
   "source": [
    "**Reset the nan fill values for all data** <br>\n",
    "Now we pick one raster, and reproject and match the other rasters to a single basemap. This choice is arbitrary and could use sensitivity analysis."
   ]
  },
  {
   "cell_type": "code",
   "execution_count": null,
   "id": "5f63f469",
   "metadata": {},
   "outputs": [],
   "source": [
    "# Reproject all datasets to GPWv4\n",
    "modis_match = modis.rio.reproject_match(gpw)\n",
    "ls_match = ls.rio.reproject_match(gpw)\n",
    "esri_match = esri.rio.reproject_match(gpw)\n",
    "wp_match = wp.rio.reproject_match(gpw)\n",
    "ghs_match = ghs.rio.reproject_match(gpw)"
   ]
  },
  {
   "cell_type": "markdown",
   "id": "08249643",
   "metadata": {},
   "source": [
    "**Now check the reprojected data**"
   ]
  },
  {
   "cell_type": "code",
   "execution_count": null,
   "id": "04ae174a",
   "metadata": {},
   "outputs": [],
   "source": [
    "modis_match "
   ]
  },
  {
   "cell_type": "code",
   "execution_count": null,
   "id": "45158bda",
   "metadata": {},
   "outputs": [],
   "source": [
    "ls_match "
   ]
  },
  {
   "cell_type": "code",
   "execution_count": null,
   "id": "fd8e0243",
   "metadata": {},
   "outputs": [],
   "source": [
    "esri_match "
   ]
  },
  {
   "cell_type": "code",
   "execution_count": null,
   "id": "d499f3f4",
   "metadata": {},
   "outputs": [],
   "source": [
    "wp_match "
   ]
  },
  {
   "cell_type": "code",
   "execution_count": null,
   "id": "00162a59",
   "metadata": {},
   "outputs": [],
   "source": [
    "ghs_match "
   ]
  },
  {
   "cell_type": "markdown",
   "id": "b799499b",
   "metadata": {},
   "source": [
    "**Now write the reprojected and matched rasters to disk**"
   ]
  },
  {
   "cell_type": "code",
   "execution_count": null,
   "id": "b6a3c7ab",
   "metadata": {},
   "outputs": [],
   "source": [
    "# Try writing them and then checking them\n",
    "modis_match.rio.to_raster(data_out + 'MGUP15_2015-km-matched.tif') \n",
    "gpw.rio.to_raster(data_out + 'GPWv4_matched.tif')\n",
    "esri_match.rio.to_raster(data_out + 'ESRI16_matched.tif')\n",
    "ls_match.rio.to_raster(data_out + 'LS15_matched.tif')\n",
    "wp_match.rio.to_raster(data_out + 'WP16_matched.tif')\n",
    "ghs_match.rio.to_raster(data_out + 'GHS15_matched.tif')"
   ]
  },
  {
   "cell_type": "markdown",
   "id": "08a94755",
   "metadata": {},
   "source": [
    "### Step 3\n",
    "Make rural and urban masked rasters"
   ]
  },
  {
   "cell_type": "code",
   "execution_count": null,
   "id": "c1e526e9",
   "metadata": {},
   "outputs": [],
   "source": [
    "def raster_mask(rst_fn, lc_arr, data_out):\n",
    "    \"\"\" Writes out masked rural and urban populations from pop rasters\n",
    "    Args:\n",
    "        rst_nm = pop raster file name + path\n",
    "        lc_fn = urban/rural bianary w/ urban =1, rural = -999\n",
    "        data_out = path to write out new rsts\n",
    "    \"\"\"\n",
    "    \n",
    "    # split for naming\n",
    "    rst_nm = rst_fn.split('interim/')[1].split('.tif')[0]\n",
    "    print(rst_nm)\n",
    "    \n",
    "    # open pop rasters and get array\n",
    "    arr = rasterio.open(rst_fn).read(1)\n",
    "    \n",
    "    # multiply for urban\n",
    "    lc_urban = lc_arr == 1\n",
    "    arr_urban = arr * lc_urban\n",
    "    \n",
    "    # multiply for rural\n",
    "    lc_rural = lc_arr != 1\n",
    "    arr_rural = arr * lc_rural\n",
    "\n",
    "    # meta data\n",
    "    meta = rasterio.open(rst_fn).meta\n",
    "\n",
    "    # write out urban\n",
    "    meta['dtype'] = arr_urban.dtype\n",
    "    out_fn = data_out+rst_nm+'_urban.tif'\n",
    "    with rasterio.open(out_fn, 'w', **meta) as out:\n",
    "        out.write_band(1, arr_urban)\n",
    "    \n",
    "    # write out rural \n",
    "    meta['dtype'] = arr_rural.dtype\n",
    "    out_fn = data_out+rst_nm+'_rural.tif'\n",
    "    with rasterio.open(out_fn, 'w', **meta) as out:\n",
    "        out.write_band(1, arr_rural)\n",
    "    print('done \\n')"
   ]
  },
  {
   "cell_type": "code",
   "execution_count": null,
   "id": "cedf1ef5",
   "metadata": {},
   "outputs": [],
   "source": [
    "# Make a rural/urban raster (MGUP rural value == 0)\n",
    "urban_rural = modis_match.copy()\n",
    "urban_rural.data = np.where(urban_rural.data == 0, 0, urban_rural.data)\n",
    "urban_rural.data = np.where(urban_rural.data != 1, 0, urban_rural.data)\n",
    "urban_rural.rio.to_raster(data_out+'MGUP15-rural-urban-matched.tif')"
   ]
  },
  {
   "cell_type": "code",
   "execution_count": null,
   "id": "a2a7ec9e",
   "metadata": {},
   "outputs": [],
   "source": [
    "# Git matched tif files, drop MGUP\n",
    "rst_fns = glob('/Users/cascade/Github/PopGridCompare/data/interim/*_matched.tif')\n",
    "rst_fns"
   ]
  },
  {
   "cell_type": "code",
   "execution_count": null,
   "id": "ebaedd79",
   "metadata": {},
   "outputs": [],
   "source": [
    "# Mask all the rasters and save them \n",
    "data_out = '/Users/cascade/Github/PopGridCompare/data/interim/'\n",
    "for rst_fn in rst_fns:\n",
    "    raster_mask(rst_fn, modis_arr, data_out)"
   ]
  },
  {
   "cell_type": "markdown",
   "id": "669a3441",
   "metadata": {},
   "source": [
    "<hr style=\"border-top: 0.2px solid gray; margin-top: 12pt; margin-bottom: 0pt\"></hr>\n",
    "\n",
    "# Clip the Rasters\n",
    "\n",
    "Now we will clip our population rasters to Nepal's boundaries"
   ]
  },
  {
   "cell_type": "code",
   "execution_count": null,
   "id": "774e2075",
   "metadata": {},
   "outputs": [],
   "source": [
    "def raster_clip(rst_fn, polys, in_ext, out_ext):\n",
    "    \n",
    "    \"\"\" function clips a raster and saves it out\n",
    "    args:\n",
    "        rst_fn = raster you want to clip\n",
    "        polys = polys you want to clip to\n",
    "        in_ext = tail of .tif file to clip off\n",
    "        out_ext = tail of .tif file for saving out \n",
    "    \"\"\"\n",
    "    \n",
    "    # Get raster name\n",
    "    data = rst_fn.split(DATA_PATH+'interim/')[1].split(in_ext)[0]\n",
    "    fn_out = DATA_PATH+'interim/'+data+out_ext\n",
    "    print(fn_out)\n",
    "    \n",
    "    # clip raster\n",
    "    with rasterio.open(rst_fn) as src:\n",
    "        out_image, out_transform = rasterio.mask.mask(src, polys, crop=True)\n",
    "        out_meta = src.meta\n",
    "        \n",
    "    # Update meta data\n",
    "    out_meta.update({\"driver\": \"GTiff\",\n",
    "                 \"height\": out_image.shape[1],\n",
    "                 \"width\": out_image.shape[2],\n",
    "                 \"transform\": out_transform})\n",
    "    \n",
    "    # write image \n",
    "    with rasterio.open(fn_out, \"w\", **out_meta) as dest:\n",
    "        dest.write(out_image)"
   ]
  },
  {
   "cell_type": "code",
   "execution_count": null,
   "id": "7f115ea4",
   "metadata": {},
   "outputs": [],
   "source": [
    "# Open polys\n",
    "country = '_NPL.tif'#'_ECU.tif'#'_MMZ.tif'#'_NPL.tif'\n",
    "polys_fn = DATA_PATH + 'raw/GPWv4-boundaries/gwpv4_npl_admin4.shp'#'interim/ECU-clip0.shp' #'interim/M-M-Z-0.shp'\n",
    "polys = gpd.read_file(polys_fn)\n",
    "shapes = polys[\"geometry\"]"
   ]
  },
  {
   "cell_type": "markdown",
   "id": "471e4176",
   "metadata": {},
   "source": [
    "#### Make of the Nepal shape file"
   ]
  },
  {
   "cell_type": "code",
   "execution_count": null,
   "id": "b20169cc",
   "metadata": {},
   "outputs": [],
   "source": [
    "# your code here ... "
   ]
  },
  {
   "cell_type": "markdown",
   "id": "7564501a",
   "metadata": {},
   "source": [
    "**Clip the matched rasters**"
   ]
  },
  {
   "cell_type": "code",
   "execution_count": null,
   "id": "10247b27",
   "metadata": {},
   "outputs": [],
   "source": [
    "# Matched Rasters \n",
    "rst_fns = glob('/Users/cascade/Github/PopGridCompare/data/interim/*_matched.tif')\n",
    "rst_fns"
   ]
  },
  {
   "cell_type": "code",
   "execution_count": null,
   "id": "2b410822",
   "metadata": {},
   "outputs": [],
   "source": [
    "# Now clip the rasters to Nepal's boundaries \n",
    "in_ext = '_matched.tif'\n",
    "out_ext = '_all'+country\n",
    "for rst_fn in rst_fns:\n",
    "    raster_clip(rst_fn, shapes, in_ext, out_ext)"
   ]
  },
  {
   "cell_type": "markdown",
   "id": "76857c65",
   "metadata": {},
   "source": [
    "**Clip the urban rasters**"
   ]
  },
  {
   "cell_type": "code",
   "execution_count": null,
   "id": "89498aba",
   "metadata": {},
   "outputs": [],
   "source": [
    "# Urban Rasters \n",
    "rst_fns = glob.glob('/Users/cascade/Github/PopGridCompare/data/interim/*_urban.tif')\n",
    "rst_fns"
   ]
  },
  {
   "cell_type": "code",
   "execution_count": null,
   "id": "e7a1b385",
   "metadata": {},
   "outputs": [],
   "source": [
    "# Now clip the rasters to Nepal's boundaries \n",
    "in_ext = 'matched_urban.tif'\n",
    "out_ext = 'urban'+country\n",
    "for rst_fn in rst_fns:\n",
    "    raster_clip(rst_fn, shapes, in_ext, out_ext)"
   ]
  },
  {
   "cell_type": "markdown",
   "id": "530cbe40",
   "metadata": {},
   "source": [
    "**Clip the urban rasters**"
   ]
  },
  {
   "cell_type": "code",
   "execution_count": null,
   "id": "fd674e02",
   "metadata": {},
   "outputs": [],
   "source": [
    "# Rural Rasters \n",
    "rst_fns = glob.glob('/Users/cascade/Github/PopGridCompare/data/interim/*_rural.tif')\n",
    "rst_fns"
   ]
  },
  {
   "cell_type": "code",
   "execution_count": null,
   "id": "f4a53b9d",
   "metadata": {},
   "outputs": [],
   "source": [
    "# Now clip the rasters to Nepal's boundaries \n",
    "in_ext = 'matched_rural.tif'\n",
    "out_ext = 'rural'+country\n",
    "for rst_fn in rst_fns:\n",
    "    raster_clip(rst_fn, shapes, in_ext, out_ext)"
   ]
  },
  {
   "cell_type": "markdown",
   "id": "39dad899",
   "metadata": {},
   "source": [
    "<hr style=\"border-top: 0.2px solid gray; margin-top: 12pt; margin-bottom: 0pt\"></hr>\n",
    "\n",
    "# Estimate Population Exposure to Quake by Intensity \n",
    "\n",
    "Now we will dive into estimating how many people were impacted by the quake by earth quake intensity. "
   ]
  },
  {
   "cell_type": "code",
   "execution_count": null,
   "id": "8cf2cc93",
   "metadata": {},
   "outputs": [],
   "source": [
    "# Functions\n",
    "def zone_loop(polys_in, rst_list, stats_type, col, split):\n",
    "    \"\"\" Function loops through rasters, calcs zonal_stats and returns stats as a data frame.\n",
    "    Args:\n",
    "        polys_in = polygons\n",
    "        rst_list = list of paths & fns of rasters\n",
    "        stats_type = stats type for each poly gone (see zonal stats)\n",
    "        col = column to merge it all\n",
    "        split = where to split the file name string (e.g. _matched.tif)\n",
    "    \"\"\"\n",
    "    \n",
    "    # copy polys to write out\n",
    "    polys_out = polys_in.copy()\n",
    "    \n",
    "    for rst in rst_list:\n",
    "        \n",
    "        # Get data name\n",
    "        data = rst.split(DATA_PATH+'interim/')[1].split(split)[0]\n",
    "        print('Started', data)\n",
    "        \n",
    "        # Run zonal stats\n",
    "        zs_feats = zonal_stats(polys_in, rst, stats=stats_type, geojson_out=True)\n",
    "        zgdf = gpd.GeoDataFrame.from_features(zs_feats, crs=polys_in.crs)\n",
    "        \n",
    "        # Rename columns and merge\n",
    "        zgdf = zgdf.rename(columns={stats_type: data+'_'+stats_type})\n",
    "        \n",
    "        polys_out = polys_out.merge(zgdf[[col, data+'_'+stats_type]], on = col, how = 'inner')\n",
    "    \n",
    "    return polys_out\n",
    "\n",
    "def poly_prep(polys_fn, col):\n",
    "    \"function opens earth quake polygons for zonal loop\"\n",
    "    \n",
    "    # open\n",
    "    polys = gpd.read_file(polys_fn)\n",
    "    \n",
    "    # subset, be sure to check the admin level\n",
    "    polys = polys[['geometry', col]]\n",
    "    \n",
    "    return polys"
   ]
  },
  {
   "cell_type": "markdown",
   "id": "068decd2",
   "metadata": {},
   "source": [
    "## Run on Shakemap Intensity Contours (MI) from USGS for Nepal 2015\n",
    "\n",
    "We are using USGS Shakemap intensity contours recorded during the earthquake. You can read about these data [here](https://databasin.org/datasets/9411dd80be424001ac7af150f8d3b7b0/). "
   ]
  },
  {
   "cell_type": "code",
   "execution_count": null,
   "id": "4a0910df",
   "metadata": {},
   "outputs": [],
   "source": [
    "# Open the shape mape polygons\n",
    "data_path = os.path.join('/Users/cpt2136/Github/PopGridCompare/data/')\n",
    "nepal_polys_fn = os.path.join(data_path + 'raw/USGS_Data/Nepal/shape/mi.shp')"
   ]
  },
  {
   "cell_type": "markdown",
   "id": "59fb80f0",
   "metadata": {},
   "source": [
    "#### Make of the MI shape file"
   ]
  },
  {
   "cell_type": "code",
   "execution_count": null,
   "id": "cecce097",
   "metadata": {},
   "outputs": [],
   "source": [
    "# your code here ... "
   ]
  },
  {
   "cell_type": "code",
   "execution_count": null,
   "id": "12cdb3f2",
   "metadata": {},
   "outputs": [],
   "source": [
    "# Subset the polygons \n",
    "col = 'PARAMVALUE'\n",
    "nepal_polys = poly_prep(nepal_polys_fn, col)\n",
    "nepal_polys.head()"
   ]
  },
  {
   "cell_type": "markdown",
   "id": "cd77accc",
   "metadata": {},
   "source": [
    "#### Make of the MI shape file"
   ]
  },
  {
   "cell_type": "code",
   "execution_count": null,
   "id": "34ccfc4f",
   "metadata": {},
   "outputs": [],
   "source": [
    "# your code here ... "
   ]
  },
  {
   "cell_type": "markdown",
   "id": "ae9e3fb9",
   "metadata": {},
   "source": [
    "### All Data"
   ]
  },
  {
   "cell_type": "code",
   "execution_count": null,
   "id": "40fe0b30",
   "metadata": {},
   "outputs": [],
   "source": [
    "# Git tif files\n",
    "rst_fns = sorted(glob(data_path + 'interim/*all_NPL.tif'))\n",
    "rst_fns"
   ]
  },
  {
   "cell_type": "code",
   "execution_count": null,
   "id": "20daa711",
   "metadata": {},
   "outputs": [],
   "source": [
    "# Run zonal stats loop\n",
    "nepal_polys_sum = zone_loop(nepal_polys, rst_fns, 'sum', col, '_all_NPL.tif')"
   ]
  },
  {
   "cell_type": "code",
   "execution_count": null,
   "id": "3a823f1b",
   "metadata": {},
   "outputs": [],
   "source": [
    "# Check the data\n",
    "nepal_polys_sum.head()"
   ]
  },
  {
   "cell_type": "code",
   "execution_count": null,
   "id": "6c91d4a7",
   "metadata": {},
   "outputs": [],
   "source": [
    "# Save the data\n",
    "fn_out = os.path.join()\n",
    "nepal_polys_sum.to_file(data_path + '/processed/nepal_quake_pop.shp')"
   ]
  },
  {
   "cell_type": "markdown",
   "id": "9fd04fad",
   "metadata": {},
   "source": [
    "### Urban Data"
   ]
  },
  {
   "cell_type": "code",
   "execution_count": null,
   "id": "617d638b",
   "metadata": {},
   "outputs": [],
   "source": [
    "# Git urban tif files\n",
    "rst_fns = sorted(glob(data_path + 'interim/*_urban_NPL.tif'))\n",
    "rst_fns"
   ]
  },
  {
   "cell_type": "code",
   "execution_count": null,
   "id": "bddfce75",
   "metadata": {},
   "outputs": [],
   "source": [
    "# Run zonal stats loop\n",
    "nepal_polys_sum = zone_loop(nepal_polys, rst_fns, 'sum', col, '_urban_NPL.tif')"
   ]
  },
  {
   "cell_type": "code",
   "execution_count": null,
   "id": "90659cbb",
   "metadata": {},
   "outputs": [],
   "source": [
    "# Check the data\n",
    "nepal_polys_sum.head()"
   ]
  },
  {
   "cell_type": "code",
   "execution_count": null,
   "id": "54cf4a28",
   "metadata": {},
   "outputs": [],
   "source": [
    "# Save the poly sums\n",
    "nepal_polys_sum.to_file(data_path + '/processed/nepal_urban_quake_pop.shp')"
   ]
  },
  {
   "cell_type": "markdown",
   "id": "744862d7",
   "metadata": {},
   "source": [
    "### Rural Data"
   ]
  },
  {
   "cell_type": "code",
   "execution_count": null,
   "id": "88a98b68",
   "metadata": {},
   "outputs": [],
   "source": [
    "# Git rural tif files\n",
    "rst_fns = glob(data_path + 'interim/*_rural_NPL.tif')\n",
    "rst_fns"
   ]
  },
  {
   "cell_type": "code",
   "execution_count": null,
   "id": "2dbd0571",
   "metadata": {},
   "outputs": [],
   "source": [
    "# Run zonal stats loop\n",
    "nepal_polys_sum = zone_loop(nepal_polys, rst_fns, 'sum', col, '_rural_NPL.tif')"
   ]
  },
  {
   "cell_type": "code",
   "execution_count": null,
   "id": "d32c5ad9",
   "metadata": {},
   "outputs": [],
   "source": [
    "# Check the data\n",
    "nepal_polys_sum.head()"
   ]
  },
  {
   "cell_type": "code",
   "execution_count": null,
   "id": "e8382406",
   "metadata": {},
   "outputs": [],
   "source": [
    "#### Save the poly sums\n",
    "nepal_polys_sum.to_file(data_path + '/processed/nepal_rural_quake_pop.shp')"
   ]
  },
  {
   "cell_type": "markdown",
   "id": "25dee8d2",
   "metadata": {},
   "source": [
    "## Let's double check the data\n",
    "The urban and rural data should equal the total data. But let's check it out! "
   ]
  },
  {
   "cell_type": "code",
   "execution_count": null,
   "id": "4aa933fa",
   "metadata": {},
   "outputs": [],
   "source": [
    "# All\n",
    "fn_in = os.path.join(data_path+'/processed/nepal_quake_pop.shp')\n",
    "all_pop = gpd.read_file(fn_in)\n",
    "all_pop.head()"
   ]
  },
  {
   "cell_type": "code",
   "execution_count": null,
   "id": "f7b8645e",
   "metadata": {},
   "outputs": [],
   "source": [
    "# Urban\n",
    "fn_in = os.path.join(data_path + '/processed/nepal_urban_quake_pop.shp')\n",
    "urban_pop = gpd.read_file(fn_in)\n",
    "urban_pop.head()"
   ]
  },
  {
   "cell_type": "code",
   "execution_count": null,
   "id": "2f68e654",
   "metadata": {},
   "outputs": [],
   "source": [
    "# Rural \n",
    "fn_in = os.path.join(data_path + '/processed/nepal_rural_quake_pop.shp')\n",
    "rural_pop = gpd.read_file(fn_in)\n",
    "rural_pop.head()"
   ]
  },
  {
   "cell_type": "code",
   "execution_count": null,
   "id": "d7538291",
   "metadata": {},
   "outputs": [],
   "source": [
    "# Check the data \n",
    "(rural_pop.iloc[:,1:6] + urban_pop.iloc[:,1:6]) / all_pop.iloc[:,1:6]"
   ]
  },
  {
   "cell_type": "markdown",
   "id": "61a5fa43",
   "metadata": {},
   "source": [
    "<hr style=\"border-top: 0.2px solid gray; margin-top: 12pt; margin-bottom: 0pt\"></hr>\n",
    "\n",
    "# Bar Plot\n",
    "Let's look at how exposure levels, but urban and rural populations, compare across quake intensities."
   ]
  },
  {
   "cell_type": "markdown",
   "id": "ca95c9cc",
   "metadata": {},
   "source": [
    "**Colors** <br>\n",
    "There are a ton of named colors available in [`matplotlib`](https://matplotlib.org/stable/gallery/color/named_colors.html). Check em out ane pick some!"
   ]
  },
  {
   "cell_type": "code",
   "execution_count": null,
   "id": "09a986f5",
   "metadata": {},
   "outputs": [],
   "source": [
    "# set colors\n",
    "ESRI16_c = 'blue'\n",
    "GHS15_c = 'indigo'\n",
    "GPWv4_c = 'deeppink'\n",
    "LS15_c = 'deepskyblue'\n",
    "WP16_c = 'forestgreen'"
   ]
  },
  {
   "cell_type": "code",
   "execution_count": null,
   "id": "a3647d59",
   "metadata": {},
   "outputs": [],
   "source": [
    "# Open the shape files \n",
    "npl_all_fn = os.path.join(data_path + 'processed/nepal_quake_pop.shp')\n",
    "npl_all = gpd.read_file(npl_all_fn)\n",
    "\n",
    "npl_rural_fn = os.path.join(data_path + 'processed/nepal_rural_quake_pop.shp')\n",
    "npl_rural = gpd.read_file(npl_rural_fn)\n",
    "\n",
    "npl_urban_fn = DATA_PATH+'processed/nepal_urban_quake_pop.shp'\n",
    "npl_urban = gpd.read_file(npl_urban_fn)"
   ]
  },
  {
   "cell_type": "code",
   "execution_count": null,
   "id": "83db2e56",
   "metadata": {},
   "outputs": [],
   "source": [
    "# Make data\n",
    "def group(df):\n",
    "    \n",
    "    \"Group and sum population by MI ranges, args is df quake pop\"\n",
    "    \n",
    "    iv = df[(df['PARAMVALUE'] >= 4) & (df['PARAMVALUE'] < 5)].iloc[:,1:6].sum(axis = 0)\n",
    "    v = df[(df['PARAMVALUE'] >= 5) & (df['PARAMVALUE'] < 6)].iloc[:,1:6].sum(axis = 0)\n",
    "    vi = df[(df['PARAMVALUE'] >= 6) & (df['PARAMVALUE'] < 7)].iloc[:,1:6].sum(axis = 0)\n",
    "    vii = df[df['PARAMVALUE'] >= 7].iloc[:,1:6].sum(axis = 0)\n",
    "    \n",
    "    out = pd.DataFrame()\n",
    "    out['iv'] = iv\n",
    "    out['v'] = v\n",
    "    out['vi'] = vi\n",
    "    out['vii'] = vii\n",
    "    \n",
    "    out = out.transpose()\n",
    "    return out"
   ]
  },
  {
   "cell_type": "code",
   "execution_count": null,
   "id": "6a310afc",
   "metadata": {},
   "outputs": [],
   "source": [
    "# Double check urban + rural / total = 100\n",
    "all_g = group(npl_all)\n",
    "rural_g = group(npl_rural)\n",
    "urban_g = group(npl_urban)\n",
    "(rural_g+urban_g) / all_g"
   ]
  },
  {
   "cell_type": "code",
   "execution_count": null,
   "id": "f009a479",
   "metadata": {},
   "outputs": [],
   "source": [
    "# Make bar plot \n",
    "fig, axs = plt.subplots(1, 1, figsize = (12, 8), sharex=True)\n",
    "ws = 0.25\n",
    "fig.subplots_adjust(wspace=ws)\n",
    "scale = 10**6\n",
    "\n",
    "# All Quake\n",
    "data = group(npl_all)\n",
    "\n",
    "# Bar locations\n",
    "a = [1-.3,2-.3,3-.3, 4-.3]\n",
    "b = [1-.15,2-.15,3-.15,4-.15]\n",
    "c = [1,2,3,4]\n",
    "d = [1+.15,2+.15,3+.15,4+.15]\n",
    "e = [1+.3,2+.3,3+.3,4+.3]\n",
    "\n",
    "# plots\n",
    "plt.bar(a, data.ESRI16_sum / scale, width=0.12, align='center', alpha  = 0.5, color = ESRI16_c, ec = 'black')\n",
    "plt.bar(b, data.GHS15_sum / scale, width=0.12, align='center', alpha  = 0.6, color = GHS15_c, ec = 'black')\n",
    "plt.bar(c, data.GPWv4_sum / scale, width=0.12, align='center', alpha  = 0.7, color = GPWv4_c, ec = 'black')\n",
    "plt.bar(d, data.LS15_sum / scale, width=0.12, align='center', alpha  = 0.8, color = LS15_c, ec = 'black')\n",
    "plt.bar(e, data.WP16_sum / scale, width=0.12, align='center', alpha  = 0.9, color = WP16_c, ec = 'black')\n",
    "\n",
    "# Fake plot for rural hatch legend \n",
    "plt.bar(e, data.WP16_sum / scale, width=0.12, align='center', alpha  = 0, color = 'white', ec = 'black',hatch = \"///\")\n",
    "\n",
    "# rural floods\n",
    "data = group(npl_rural)\n",
    "plt.bar(a, data.ESRI16_sum / scale, width=0.12, align='center', alpha  = 0.5, color = ESRI16_c, ec = 'black', hatch = \"///\")\n",
    "plt.bar(b, data.GHS15_sum / scale, width=0.12, align='center', alpha  = 0.6, color = GHS15_c, ec = 'black', hatch = \"///\")\n",
    "plt.bar(c, data.GPWv4_sum / scale, width=0.12, align='center', alpha  = 0.7, color = GPWv4_c, ec = 'black', hatch = \"///\")\n",
    "plt.bar(d, data.LS15_sum / scale, width=0.12, align='center', alpha  = 0.8, color = LS15_c, ec = 'black', hatch = \"///\")\n",
    "plt.bar(e, data.WP16_sum / scale, width=0.12, align='center', alpha  = 0.9, color = WP16_c, ec = 'black', hatch = \"///\")\n",
    "\n",
    "# legend\n",
    "legend_elements = [Patch(facecolor=ESRI16_c, alpha = 0.5, edgecolor=None, label='WPE-15'),\n",
    "                  Patch(facecolor=GHS15_c, alpha = 0.6, edgecolor=None, label='GHSL-15'),\n",
    "                  Patch(facecolor=GPWv4_c, alpha = 0.7, edgecolor=None, label='GPW-15'),\n",
    "                  Patch(facecolor=LS15_c, alpha = 0.8, edgecolor=None, label='LS-15'),\n",
    "                  Patch(facecolor= WP16_c, alpha = 0.9, edgecolor=None, label='WP-16'),\n",
    "                  Patch(facecolor= 'white', alpha = 0.9,  hatch = '///', edgecolor='black', label='rural pop')]\n",
    "plt.legend(handles = legend_elements, bbox_to_anchor=(1, 1.02), loc='upper left', ncol=1, fontsize = 15);\n",
    "\n",
    "# Labels / Titles\n",
    "axs.set_title('Nepal 2015 Earthquake Impact', size = 20)\n",
    "axs.set_xlabel('Instrumental Intesnity', fontsize = 15)\n",
    "axs.set_ylabel('Total Population [millions]', fontsize = 15)\n",
    "\n",
    "# Ticks\n",
    "ticks_bar = ['>=4', ' >=5', '>=6', '>=7'];\n",
    "plt.xticks([1,2,3,4], ticks_bar, fontsize = 15);\n",
    "plt.yticks(fontsize = 15);"
   ]
  },
  {
   "cell_type": "code",
   "execution_count": null,
   "id": "0ea0f397",
   "metadata": {},
   "outputs": [],
   "source": [
    "# save it out\n",
    "fig_out = os.path.join(data_path + 'FIGS/MS/Finalv1/Fig4.png')\n",
    "plt.savefig(fig_out, dpi = 300, facecolor = 'white', bbox_inches='tight')"
   ]
  }
 ],
 "metadata": {
  "kernelspec": {
   "display_name": "Python 3 (ipykernel)",
   "language": "python",
   "name": "python3"
  },
  "language_info": {
   "codemirror_mode": {
    "name": "ipython",
    "version": 3
   },
   "file_extension": ".py",
   "mimetype": "text/x-python",
   "name": "python",
   "nbconvert_exporter": "python",
   "pygments_lexer": "ipython3",
   "version": "3.10.9"
  }
 },
 "nbformat": 4,
 "nbformat_minor": 5
}
