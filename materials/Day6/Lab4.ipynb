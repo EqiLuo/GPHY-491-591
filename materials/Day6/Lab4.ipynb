{
 "cells": [
  {
   "cell_type": "markdown",
   "id": "670ca019-52c9-4fff-89ec-edd12ddde28e",
   "metadata": {},
   "source": [
    "## Mixing OSM, Census Data, and Gridded Population Data\n",
    "<hr style=\"border-top: 0.2px solid gray; margin-top: 12px; margin-bottom: 1px\"></hr>\n",
    "\n",
    "<img src=\"./assets/WP.png\" alt=\"Worldpop work flow\" width=\"1000\"/>\n",
    "\n",
    "For the rest of the tutorial, we are going to integrate OSM, Census, and gridded population data from [WorldPop](https://www.worldpop.org/methods/). To remind you, gridded population datasets are created by estimate the relationships between remote-sensed (RS) data and other GIS data with census data, and then using the RS to predict population at fine spatial resolutions. The spatial weights can be built using a top-down or a bottom-up approach. The top-down approach uses large-area census data and then allocates population to areas where we think people live from RS data. The bottom-up approach uses micro-census data to develop spatial covariates to allocate population in areas where we lack information. Both are very powerful, but both will create uncertainty in population estimates.  \n",
    "\n",
    "Let's dive into Worldpop's 2020 100m spatial resolution population data for the United States and see what it looks like for Montana. Note that we'll be using a new package called [rioxarray](https://corteva.github.io/rioxarray/) which is a wrapper that combines functionality of `rasterio` with `xarray`, a package we will use a lot in the coming weeks. "
   ]
  },
  {
   "cell_type": "markdown",
   "id": "d33b5eef-454e-4ca4-84a9-c4eed4a280a8",
   "metadata": {},
   "source": [
    "<div class=\"run\">\n",
    "    ▶️ <b> Run the cells below. </b>\n",
    "</div>"
   ]
  },
  {
   "cell_type": "code",
   "execution_count": null,
   "id": "04ea73da-a455-4b0c-a873-cbb646d5261f",
   "metadata": {},
   "outputs": [],
   "source": [
    "# Dependencies \n",
    "import rioxarray as rio\n",
    "import os\n",
    "import sys"
   ]
  },
  {
   "cell_type": "code",
   "execution_count": null,
   "id": "e46d5cf7-db2f-4f54-9511-bedccd14e17a",
   "metadata": {},
   "outputs": [],
   "source": [
    "# Open WorldPop 2020 100m Data for the USA\n",
    "fn = os.path.join('./data/usa_ppp_2020_constrained.tif')\n",
    "wp2020 = rio.open_rasterio(fn)"
   ]
  },
  {
   "cell_type": "code",
   "execution_count": 5,
   "id": "ce76db25-05da-4464-a4ec-e52eec185bb9",
   "metadata": {
    "tags": []
   },
   "outputs": [
    {
     "name": "stdout",
     "output_type": "stream",
     "text": [
      "What kind of object is wp2020? <class 'xarray.core.dataarray.DataArray'>\n"
     ]
    }
   ],
   "source": [
    "# Check out the type and look at the xarray.DataArrayObject\n",
    "print('What kind of object is wp2020?', type(wp2020))"
   ]
  },
  {
   "cell_type": "code",
   "execution_count": null,
   "id": "9beac841-da67-424d-954f-75583874eb85",
   "metadata": {
    "tags": []
   },
   "outputs": [],
   "source": [
    "wp2020"
   ]
  },
  {
   "cell_type": "code",
   "execution_count": null,
   "id": "fee4bc63-79e9-41ab-827d-a3fddcbd7e8f",
   "metadata": {
    "tags": []
   },
   "outputs": [],
   "source": [
    "# Let's use the sys package to look at the size of the WP data\n",
    "sys.getsizeof(wp2020.read(1))"
   ]
  },
  {
   "cell_type": "code",
   "execution_count": null,
   "id": "6252bcb7-6b40-4be3-a96f-fb5a8b4d0e1f",
   "metadata": {},
   "outputs": [],
   "source": [
    "# Plot it"
   ]
  },
  {
   "cell_type": "code",
   "execution_count": null,
   "id": "ecd822b7-1e65-4a1d-b8c6-a9d973d03f23",
   "metadata": {},
   "outputs": [],
   "source": [
    "# Clip it to Montana"
   ]
  },
  {
   "cell_type": "code",
   "execution_count": null,
   "id": "f617ecf6-5da2-477c-abe1-e810d95657a6",
   "metadata": {},
   "outputs": [],
   "source": [
    "# Compare it to Census Data County Level"
   ]
  },
  {
   "cell_type": "code",
   "execution_count": null,
   "id": "366b765b-dcde-40b4-bd57-668045f89a65",
   "metadata": {},
   "outputs": [],
   "source": [
    "# Buffer Road by 500 m"
   ]
  },
  {
   "cell_type": "code",
   "execution_count": null,
   "id": "a439d9fe-8e71-4258-8435-813055abacbd",
   "metadata": {},
   "outputs": [],
   "source": [
    "# "
   ]
  }
 ],
 "metadata": {
  "kernelspec": {
   "display_name": "Python 3 (ipykernel)",
   "language": "python",
   "name": "python3"
  },
  "language_info": {
   "codemirror_mode": {
    "name": "ipython",
    "version": 3
   },
   "file_extension": ".py",
   "mimetype": "text/x-python",
   "name": "python",
   "nbconvert_exporter": "python",
   "pygments_lexer": "ipython3",
   "version": "3.9.15"
  }
 },
 "nbformat": 4,
 "nbformat_minor": 5
}
