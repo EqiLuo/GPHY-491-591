{
 "cells": [
  {
   "cell_type": "markdown",
   "id": "c50d5d6c",
   "metadata": {},
   "source": [
    "# Introduction Lab\n",
    "Cascade Tuholske, Jan. 2024  \n",
    "\n",
    "This is a brief notebook to explore Python."
   ]
  },
  {
   "cell_type": "markdown",
   "id": "5e90aa1f",
   "metadata": {},
   "source": [
    "### Import Depdencies (e.g. Packages)"
   ]
  },
  {
   "cell_type": "code",
   "execution_count": null,
   "id": "afc252fe",
   "metadata": {},
   "outputs": [],
   "source": [
    "import pandas as pd\n",
    "import numpy as np \n",
    "import os\n",
    "import geopandas as gpd\n",
    "import matplotlib.pyplot as plt\n",
    "import cartopy.crs as ccrs\n",
    "import cartopy.feature as cfeature\n",
    "import matplotlib.patches as mpatches"
   ]
  },
  {
   "cell_type": "markdown",
   "id": "28a4d47d",
   "metadata": {},
   "source": [
    "### Let's do some basic data manipulation"
   ]
  },
  {
   "cell_type": "code",
   "execution_count": null,
   "id": "74804fad",
   "metadata": {},
   "outputs": [],
   "source": [
    "# This is a string (e.g. text)\n",
    "string = 'Learning to code is fun'"
   ]
  },
  {
   "cell_type": "code",
   "execution_count": null,
   "id": "07214804",
   "metadata": {},
   "outputs": [],
   "source": [
    "# This will print the string\n",
    "string"
   ]
  },
  {
   "cell_type": "code",
   "execution_count": null,
   "id": "b4ab4d42",
   "metadata": {},
   "outputs": [],
   "source": [
    "# This will also print the string\n",
    "print(string)"
   ]
  },
  {
   "cell_type": "markdown",
   "id": "954fd0cb",
   "metadata": {},
   "source": [
    "### Notice that 'print' turns green? That is because 'print' is a [reserved keyword](https://www.w3schools.com/python/python_ref_keywords.asp) in Python. "
   ]
  },
  {
   "cell_type": "code",
   "execution_count": null,
   "id": "0ccf6874",
   "metadata": {},
   "outputs": [],
   "source": [
    "# Let's look at keywords\n",
    "import keyword\n",
    "keyword.kwlist"
   ]
  },
  {
   "cell_type": "code",
   "execution_count": null,
   "id": "1ff0309e",
   "metadata": {},
   "outputs": [],
   "source": [
    "# How many keyworks are there?\n",
    "print('There are', len(keyword.kwlist), 'ketwords')"
   ]
  },
  {
   "cell_type": "code",
   "execution_count": null,
   "id": "c14e6b69",
   "metadata": {},
   "outputs": [],
   "source": [
    "# What type of data is does len(keyword.kwlist) produce?\n",
    "type(len(keyword.kwlist))"
   ]
  },
  {
   "cell_type": "code",
   "execution_count": null,
   "id": "84fe423b",
   "metadata": {},
   "outputs": [],
   "source": [
    "# Let's try some math\n",
    "len_kw = len(keyword.kwlist)\n",
    "ans = len_kw + 100 \n",
    "print('What is the length of keyword list plus 100 equal?', ans)"
   ]
  },
  {
   "cell_type": "markdown",
   "id": "23c53633",
   "metadata": {},
   "source": [
    "### Let's explore what a list is."
   ]
  },
  {
   "cell_type": "code",
   "execution_count": null,
   "id": "cd25dec5",
   "metadata": {},
   "outputs": [],
   "source": [
    "type(keyword.kwlist)"
   ]
  },
  {
   "cell_type": "code",
   "execution_count": null,
   "id": "a52a777a",
   "metadata": {},
   "outputs": [],
   "source": [
    "# Make another list of words we like\n",
    "word_list = ['puppies', 'snow', 'sunsets']"
   ]
  },
  {
   "cell_type": "code",
   "execution_count": null,
   "id": "d003011a",
   "metadata": {},
   "outputs": [],
   "source": [
    "print('What kinds of data is words?', type(word_list))"
   ]
  },
  {
   "cell_type": "code",
   "execution_count": null,
   "id": "6b5be6af",
   "metadata": {},
   "outputs": [],
   "source": [
    "# Let's write a loop to see what kind of data our list contains?\n",
    "\n",
    "for i, word in enumerate(word_list):\n",
    "    ans = type(word)\n",
    "    print('The type of data at location', i, 'is', ans)"
   ]
  },
  {
   "cell_type": "code",
   "execution_count": null,
   "id": "8c903704",
   "metadata": {},
   "outputs": [],
   "source": [
    "# Let's add the lists\n",
    "new_list = word_list + keyword.kwlist"
   ]
  },
  {
   "cell_type": "code",
   "execution_count": null,
   "id": "0130916c",
   "metadata": {},
   "outputs": [],
   "source": [
    "# our new list is combined contains 38 data point\n",
    "print(len(new_list))"
   ]
  },
  {
   "cell_type": "markdown",
   "id": "c9657ee4",
   "metadata": {},
   "source": [
    "### Lists can contain multiple data types"
   ]
  },
  {
   "cell_type": "code",
   "execution_count": null,
   "id": "cea82f64",
   "metadata": {},
   "outputs": [],
   "source": [
    "# square brackets will create a list \n",
    "ans = len(new_list)\n",
    "len_list = [ans]\n",
    "print(ans, len_list)"
   ]
  },
  {
   "cell_type": "code",
   "execution_count": null,
   "id": "da0b9568",
   "metadata": {},
   "outputs": [],
   "source": [
    "# Notice we just re-assigned 'new_list' as a variable\n",
    "print(len(new_list))\n",
    "new_list = new_list + len_list\n",
    "print(len(new_list))"
   ]
  },
  {
   "cell_type": "code",
   "execution_count": null,
   "id": "4d0f0f72",
   "metadata": {},
   "outputs": [],
   "source": [
    "# Let's write a loop to see what kind of data 'new_list' contains?\n",
    "\n",
    "for i, word in enumerate(new_list):\n",
    "    ans = type(word)\n",
    "    print('The type of data at location', i, 'is', ans)"
   ]
  },
  {
   "cell_type": "markdown",
   "id": "bf01680f",
   "metadata": {},
   "source": [
    "### There are many ways to create slices in python but with lists we use indexing"
   ]
  },
  {
   "cell_type": "code",
   "execution_count": null,
   "id": "f73e2fcb",
   "metadata": {},
   "outputs": [],
   "source": [
    "print('wordlist:', new_list[0:3])\n",
    "print('keyword list:', new_list[3:-1])\n",
    "print('len list:', new_list[-1], new_list[38])"
   ]
  },
  {
   "cell_type": "markdown",
   "id": "da49b4a9",
   "metadata": {},
   "source": [
    "# Coding is fun, indeed. What's next?"
   ]
  },
  {
   "cell_type": "code",
   "execution_count": null,
   "id": "c4d3bbe7",
   "metadata": {},
   "outputs": [],
   "source": [
    "print('Time to make a map!')"
   ]
  },
  {
   "cell_type": "code",
   "execution_count": null,
   "id": "9ee6c6cc",
   "metadata": {},
   "outputs": [],
   "source": [
    "# Here are BLM boundaries for Wildnress Areas in the USA\n",
    "# Data from: https://data.fs.usda.gov/geodata/edw/datasets.php\n",
    "fn = os.path.join('../data/S_USA_Wilderness/S_USA_Wilderness.shp')"
   ]
  },
  {
   "cell_type": "code",
   "execution_count": null,
   "id": "ebe8114d",
   "metadata": {},
   "outputs": [],
   "source": [
    "# Let's load them into memory as GeoPandas DataFrame \n",
    "gdf = gpd.read_file(fn)\n",
    "type(gdf)"
   ]
  },
  {
   "cell_type": "code",
   "execution_count": null,
   "id": "1929105e",
   "metadata": {
    "scrolled": true
   },
   "outputs": [],
   "source": [
    "# Let's look at the first four rows of the gdf\n",
    "gdf.head(4)"
   ]
  },
  {
   "cell_type": "code",
   "execution_count": null,
   "id": "05b81835",
   "metadata": {},
   "outputs": [],
   "source": [
    "# Let's look at the column names\n",
    "gdf.columns"
   ]
  },
  {
   "cell_type": "code",
   "execution_count": null,
   "id": "0aaf1a82",
   "metadata": {},
   "outputs": [],
   "source": [
    "# What is the shape of our gdf?\n",
    "print(gdf.shape)\n",
    "print('rows', gdf.shape[0], 'columns', gdf.shape[1])"
   ]
  },
  {
   "cell_type": "code",
   "execution_count": null,
   "id": "c7d0aa04",
   "metadata": {},
   "outputs": [],
   "source": [
    "# Let's plot them\n",
    "gdf.plot() "
   ]
  },
  {
   "cell_type": "markdown",
   "id": "ebb54e6b",
   "metadata": {},
   "source": [
    "#### But let's plot Wildnress Areas with State Boundaries and Coastalines"
   ]
  },
  {
   "cell_type": "code",
   "execution_count": null,
   "id": "a1271698",
   "metadata": {},
   "outputs": [],
   "source": [
    "# Let's plot just Wildnerness areas with boarders defined\n",
    "\n",
    "# Set up your plot container (e.g. axis)\n",
    "fig = plt.figure()\n",
    "ax = fig.add_subplot(1, 1, 1, projection=ccrs.PlateCarree())\n",
    "\n",
    "# plot the wilderness areas\n",
    "gdf.plot(ax = ax, legend = True, color = 'blue') \n",
    "\n",
    "# Add land, coastlines, and states\n",
    "ax.add_feature(cfeature.LAND, color = 'pink', alpha = 0.5)\n",
    "ax.add_feature(cfeature.COASTLINE, linewidth = 0.05)\n",
    "ax.add_feature(cfeature.STATES, linewidth = 0.05)\n",
    "\n",
    "# Add a tilte & legend\n",
    "plt.title('Wildnress Areas in the United States', fontsize = 15);\n",
    "\n",
    "patch = mpatches.Patch(color='blue', label='US Wilderness Areas'); # this is a fake legend\n",
    "plt.legend(handles=[patch]);\n"
   ]
  }
 ],
 "metadata": {
  "kernelspec": {
   "display_name": "Python 3 (ipykernel)",
   "language": "python",
   "name": "python3"
  },
  "language_info": {
   "codemirror_mode": {
    "name": "ipython",
    "version": 3
   },
   "file_extension": ".py",
   "mimetype": "text/x-python",
   "name": "python",
   "nbconvert_exporter": "python",
   "pygments_lexer": "ipython3",
   "version": "3.10.9"
  }
 },
 "nbformat": 4,
 "nbformat_minor": 5
}
