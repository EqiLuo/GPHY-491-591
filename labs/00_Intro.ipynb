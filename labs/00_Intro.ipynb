{
 "cells": [
  {
   "cell_type": "markdown",
   "id": "c50d5d6c",
   "metadata": {},
   "source": [
    "# Introduction Lab\n",
    "Cascade Tuholske, Jan. 2024  \n",
    "\n",
    "This is a brief notebook to explore Python."
   ]
  },
  {
   "cell_type": "markdown",
   "id": "5e90aa1f",
   "metadata": {},
   "source": [
    "### Import Depdencies (e.g. Packages)"
   ]
  },
  {
   "cell_type": "code",
   "execution_count": 82,
   "id": "afc252fe",
   "metadata": {},
   "outputs": [],
   "source": [
    "import pandas as pd\n",
    "import numpy as np \n",
    "import os\n",
    "import geopandas as gpd\n",
    "import matplotlib.pyplot as plt\n",
    "import cartopy"
   ]
  },
  {
   "cell_type": "markdown",
   "id": "28a4d47d",
   "metadata": {},
   "source": [
    "### Let's do some basic data manipulation"
   ]
  },
  {
   "cell_type": "code",
   "execution_count": 3,
   "id": "74804fad",
   "metadata": {},
   "outputs": [],
   "source": [
    "# This is a string (e.g. text)\n",
    "string = 'Learning to code is fun'"
   ]
  },
  {
   "cell_type": "code",
   "execution_count": 4,
   "id": "07214804",
   "metadata": {},
   "outputs": [
    {
     "data": {
      "text/plain": [
       "'Learning to code is fun'"
      ]
     },
     "execution_count": 4,
     "metadata": {},
     "output_type": "execute_result"
    }
   ],
   "source": [
    "# This will print the string\n",
    "string"
   ]
  },
  {
   "cell_type": "code",
   "execution_count": 5,
   "id": "b4ab4d42",
   "metadata": {},
   "outputs": [
    {
     "name": "stdout",
     "output_type": "stream",
     "text": [
      "Learning to code is fun\n"
     ]
    }
   ],
   "source": [
    "# This will also print the string\n",
    "print(string)"
   ]
  },
  {
   "cell_type": "markdown",
   "id": "954fd0cb",
   "metadata": {},
   "source": [
    "### Notice that 'print' turns green? That is because 'print' is a [reserved keyword](https://www.w3schools.com/python/python_ref_keywords.asp) in Python. "
   ]
  },
  {
   "cell_type": "code",
   "execution_count": 7,
   "id": "0ccf6874",
   "metadata": {},
   "outputs": [],
   "source": [
    "# Let's look at keywords\n",
    "import keyword\n",
    "keyword.kwlist"
   ]
  },
  {
   "cell_type": "code",
   "execution_count": 10,
   "id": "1ff0309e",
   "metadata": {},
   "outputs": [
    {
     "name": "stdout",
     "output_type": "stream",
     "text": [
      "There are 35 ketwords\n"
     ]
    }
   ],
   "source": [
    "# How many keyworks are there?\n",
    "print('There are', len(keyword.kwlist), 'ketwords')"
   ]
  },
  {
   "cell_type": "code",
   "execution_count": 11,
   "id": "c14e6b69",
   "metadata": {},
   "outputs": [
    {
     "data": {
      "text/plain": [
       "int"
      ]
     },
     "execution_count": 11,
     "metadata": {},
     "output_type": "execute_result"
    }
   ],
   "source": [
    "# What type of data is does len(keyword.kwlist) produce?\n",
    "type(len(keyword.kwlist))"
   ]
  },
  {
   "cell_type": "code",
   "execution_count": 17,
   "id": "84fe423b",
   "metadata": {},
   "outputs": [
    {
     "name": "stdout",
     "output_type": "stream",
     "text": [
      "What is the length of keyword list plus 100 equal? 135\n"
     ]
    }
   ],
   "source": [
    "# Let's try some math\n",
    "len_kw = len(keyword.kwlist)\n",
    "ans = len_kw + 100 \n",
    "print('What is the length of keyword list plus 100 equal?', ans)"
   ]
  },
  {
   "cell_type": "markdown",
   "id": "23c53633",
   "metadata": {},
   "source": [
    "### Let's explore what a list is."
   ]
  },
  {
   "cell_type": "code",
   "execution_count": 18,
   "id": "cd25dec5",
   "metadata": {},
   "outputs": [
    {
     "data": {
      "text/plain": [
       "list"
      ]
     },
     "execution_count": 18,
     "metadata": {},
     "output_type": "execute_result"
    }
   ],
   "source": [
    "type(keyword.kwlist)"
   ]
  },
  {
   "cell_type": "code",
   "execution_count": 20,
   "id": "a52a777a",
   "metadata": {},
   "outputs": [],
   "source": [
    "# Make another list of words we like\n",
    "words = ['puppies', 'snow', 'sunsets']"
   ]
  },
  {
   "cell_type": "code",
   "execution_count": 22,
   "id": "d003011a",
   "metadata": {},
   "outputs": [
    {
     "name": "stdout",
     "output_type": "stream",
     "text": [
      "What kinds of data is words? <class 'list'>\n"
     ]
    }
   ],
   "source": [
    "print('What kinds of data is words?', type(words))"
   ]
  },
  {
   "cell_type": "code",
   "execution_count": 26,
   "id": "6b5be6af",
   "metadata": {},
   "outputs": [
    {
     "name": "stdout",
     "output_type": "stream",
     "text": [
      "The type of data at location 0 is <class 'str'>\n",
      "The type of data at location 1 is <class 'str'>\n",
      "The type of data at location 2 is <class 'str'>\n"
     ]
    }
   ],
   "source": [
    "# Let's write a loop to see what kind of data our list contains?\n",
    "\n",
    "for i, word in enumerate(words):\n",
    "    ans = type(word)\n",
    "    print('The type of data at location', i, 'is', ans)"
   ]
  },
  {
   "cell_type": "markdown",
   "id": "da49b4a9",
   "metadata": {},
   "source": [
    "# Coding is fun, indeed. What's next?"
   ]
  },
  {
   "cell_type": "code",
   "execution_count": 45,
   "id": "c4d3bbe7",
   "metadata": {},
   "outputs": [
    {
     "name": "stdout",
     "output_type": "stream",
     "text": [
      "Time to make a map!\n"
     ]
    }
   ],
   "source": [
    "print('Time to make a map!')"
   ]
  },
  {
   "cell_type": "code",
   "execution_count": 74,
   "id": "9ee6c6cc",
   "metadata": {},
   "outputs": [],
   "source": [
    "# Here are BLM boundaries for Wildnress Areas in the USA\n",
    "# Data from: https://data.fs.usda.gov/geodata/edw/datasets.php\n",
    "fn = os.path.join('../data/S_USA.Wilderness/S_USA.Wilderness.shp')"
   ]
  },
  {
   "cell_type": "code",
   "execution_count": 75,
   "id": "ebe8114d",
   "metadata": {},
   "outputs": [
    {
     "data": {
      "text/plain": [
       "geopandas.geodataframe.GeoDataFrame"
      ]
     },
     "execution_count": 75,
     "metadata": {},
     "output_type": "execute_result"
    }
   ],
   "source": [
    "# Let's load them into memory as GeoPandas DataFrame \n",
    "gdf = gpd.read_file(fn)\n",
    "type(gdf)"
   ]
  },
  {
   "cell_type": "code",
   "execution_count": 76,
   "id": "1929105e",
   "metadata": {
    "scrolled": true
   },
   "outputs": [
    {
     "data": {
      "text/html": [
       "<div>\n",
       "<style scoped>\n",
       "    .dataframe tbody tr th:only-of-type {\n",
       "        vertical-align: middle;\n",
       "    }\n",
       "\n",
       "    .dataframe tbody tr th {\n",
       "        vertical-align: top;\n",
       "    }\n",
       "\n",
       "    .dataframe thead th {\n",
       "        text-align: right;\n",
       "    }\n",
       "</style>\n",
       "<table border=\"1\" class=\"dataframe\">\n",
       "  <thead>\n",
       "    <tr style=\"text-align: right;\">\n",
       "      <th></th>\n",
       "      <th>WILDERNESS</th>\n",
       "      <th>WILDERNE_1</th>\n",
       "      <th>AREAID</th>\n",
       "      <th>BOUNDARYST</th>\n",
       "      <th>GIS_ACRES</th>\n",
       "      <th>WID</th>\n",
       "      <th>SHAPE_AREA</th>\n",
       "      <th>SHAPE_LEN</th>\n",
       "      <th>geometry</th>\n",
       "    </tr>\n",
       "  </thead>\n",
       "  <tbody>\n",
       "    <tr>\n",
       "      <th>0</th>\n",
       "      <td>10788010343</td>\n",
       "      <td>Big Slough Wilderness</td>\n",
       "      <td>335</td>\n",
       "      <td>Final</td>\n",
       "      <td>0.00000</td>\n",
       "      <td>45</td>\n",
       "      <td>0.001353</td>\n",
       "      <td>0.289748</td>\n",
       "      <td>POLYGON ((-95.10432 31.52276, -95.10412 31.522...</td>\n",
       "    </tr>\n",
       "    <tr>\n",
       "      <th>1</th>\n",
       "      <td>10812010343</td>\n",
       "      <td>Bighorn Mountain Wilderness</td>\n",
       "      <td>419</td>\n",
       "      <td>Provisional, Subject to Change</td>\n",
       "      <td>0.00000</td>\n",
       "      <td>47</td>\n",
       "      <td>0.004777</td>\n",
       "      <td>0.413485</td>\n",
       "      <td>POLYGON ((-116.73597 34.32272, -116.73597 34.3...</td>\n",
       "    </tr>\n",
       "    <tr>\n",
       "      <th>2</th>\n",
       "      <td>10782010343</td>\n",
       "      <td>Billies Bay Wilderness</td>\n",
       "      <td>312</td>\n",
       "      <td>Final</td>\n",
       "      <td>0.00000</td>\n",
       "      <td>48</td>\n",
       "      <td>0.001149</td>\n",
       "      <td>0.165146</td>\n",
       "      <td>POLYGON ((-81.57240 29.08628, -81.57278 29.086...</td>\n",
       "    </tr>\n",
       "    <tr>\n",
       "      <th>3</th>\n",
       "      <td>10277010343</td>\n",
       "      <td>Chuck River Wilderness</td>\n",
       "      <td>390</td>\n",
       "      <td>Final</td>\n",
       "      <td>75395.07214</td>\n",
       "      <td>120</td>\n",
       "      <td>0.045765</td>\n",
       "      <td>2.319829</td>\n",
       "      <td>MULTIPOLYGON (((-133.57647 57.72150, -133.5752...</td>\n",
       "    </tr>\n",
       "  </tbody>\n",
       "</table>\n",
       "</div>"
      ],
      "text/plain": [
       "    WILDERNESS                   WILDERNE_1 AREAID  \\\n",
       "0  10788010343        Big Slough Wilderness    335   \n",
       "1  10812010343  Bighorn Mountain Wilderness    419   \n",
       "2  10782010343       Billies Bay Wilderness    312   \n",
       "3  10277010343       Chuck River Wilderness    390   \n",
       "\n",
       "                       BOUNDARYST    GIS_ACRES  WID  SHAPE_AREA  SHAPE_LEN  \\\n",
       "0                           Final      0.00000   45    0.001353   0.289748   \n",
       "1  Provisional, Subject to Change      0.00000   47    0.004777   0.413485   \n",
       "2                           Final      0.00000   48    0.001149   0.165146   \n",
       "3                           Final  75395.07214  120    0.045765   2.319829   \n",
       "\n",
       "                                            geometry  \n",
       "0  POLYGON ((-95.10432 31.52276, -95.10412 31.522...  \n",
       "1  POLYGON ((-116.73597 34.32272, -116.73597 34.3...  \n",
       "2  POLYGON ((-81.57240 29.08628, -81.57278 29.086...  \n",
       "3  MULTIPOLYGON (((-133.57647 57.72150, -133.5752...  "
      ]
     },
     "execution_count": 76,
     "metadata": {},
     "output_type": "execute_result"
    }
   ],
   "source": [
    "# Let's look at the first four rows of the gdf\n",
    "gdf.head(4)"
   ]
  },
  {
   "cell_type": "code",
   "execution_count": 77,
   "id": "0aaf1a82",
   "metadata": {},
   "outputs": [
    {
     "name": "stdout",
     "output_type": "stream",
     "text": [
      "(451, 9)\n",
      "rows 451 columns 9\n"
     ]
    }
   ],
   "source": [
    "# What is the shape of our gdf?\n",
    "print(gdf.shape)\n",
    "print('rows', gdf.shape[0], 'columns', gdf.shape[1])"
   ]
  },
  {
   "cell_type": "code",
   "execution_count": 87,
   "id": "c7d0aa04",
   "metadata": {},
   "outputs": [
    {
     "data": {
      "text/plain": [
       "<AxesSubplot: >"
      ]
     },
     "execution_count": 87,
     "metadata": {},
     "output_type": "execute_result"
    },
    {
     "data": {
      "image/png": "[encoded data removed]",
      "text/plain": [
       "<Figure size 640x480 with 1 Axes>"
      ]
     },
     "metadata": {},
     "output_type": "display_data"
    }
   ],
   "source": [
    "# Let's plot them\n",
    "gdf.plot() "
   ]
  },
  {
   "cell_type": "markdown",
   "id": "ebb54e6b",
   "metadata": {},
   "source": [
    "#### But let's plot Wildnress Areas with State Boundaries with Ca`nb"
   ]
  },
  {
   "cell_type": "code",
   "execution_count": 86,
   "id": "a1271698",
   "metadata": {},
   "outputs": [
    {
     "name": "stderr",
     "output_type": "stream",
     "text": [
      "/Users/t61d992/miniconda3/envs/geo10/lib/python3.10/site-packages/cartopy/io/__init__.py:241: DownloadWarning: Downloading: https://naturalearth.s3.amazonaws.com/110m_cultural/ne_110m_admin_1_states_provinces_lakes.zip\n",
      "  warnings.warn(f'Downloading: {url}', DownloadWarning)\n"
     ]
    },
    {
     "data": {
      "text/plain": [
       "<tuple_iterator at 0x17fee5210>"
      ]
     },
     "execution_count": 86,
     "metadata": {},
     "output_type": "execute_result"
    }
   ],
   "source": [
    "# Let's plot just Wildnerness ares\n",
    "cartopy.feature.STATES.geometries"
   ]
  }
 ],
 "metadata": {
  "kernelspec": {
   "display_name": "Python 3 (ipykernel)",
   "language": "python",
   "name": "python3"
  },
  "language_info": {
   "codemirror_mode": {
    "name": "ipython",
    "version": 3
   },
   "file_extension": ".py",
   "mimetype": "text/x-python",
   "name": "python",
   "nbconvert_exporter": "python",
   "pygments_lexer": "ipython3",
   "version": "3.10.9"
  }
 },
 "nbformat": 4,
 "nbformat_minor": 5
}
